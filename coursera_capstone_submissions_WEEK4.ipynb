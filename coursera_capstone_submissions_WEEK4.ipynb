{
 "cells": [
  {
   "cell_type": "markdown",
   "metadata": {},
   "source": [
    "<h1 align=center><font size = 6> Coursera Capstone Project </font></h1>"
   ]
  },
  {
   "cell_type": "markdown",
   "metadata": {},
   "source": [
    "<h2> The Battle of Neighborhoods (Week 1)</h2>\n",
    "\n",
    "<div class=\"alert alert-block alert-info\" style=\"margin-top: 20px\">\n",
    "    <p><font size=4>Contents</font></p>\n",
    "     <ol>\n",
    "         <li><a href=\"#w4_ans1\">Introduction</a></li>\n",
    "    </ol>\n",
    "    \n",
    "</div>"
   ]
  },
  {
   "cell_type": "markdown",
   "metadata": {},
   "source": [
    "<a id=\"w4_ans1\"></a>\n",
    "<h3>Introduction</h3>"
   ]
  },
  {
   "cell_type": "markdown",
   "metadata": {},
   "source": [
    "**Yangon** is the capital of Myanmar where local migrant workers are residing to work in various industries, and foreign investors are having their eye on new opportunities."
   ]
  },
  {
   "cell_type": "code",
   "execution_count": 46,
   "metadata": {
    "scrolled": true
   },
   "outputs": [
    {
     "data": {
      "text/plain": [
       "<branca.element.Element at 0x1c5c0a714c8>"
      ]
     },
     "execution_count": 46,
     "metadata": {},
     "output_type": "execute_result"
    }
   ],
   "source": [
    "#library to convert an address to latitude and longitude values\n",
    "from geopy.geocoders import Nominatim\n",
    "\n",
    "# map rendering library\n",
    "import folium \n",
    "\n",
    "#converting the address of Yangon City to geocodes \n",
    "address = 'Yangon City, MM'\n",
    "geolocator = Nominatim(user_agent='mm_explorer')\n",
    "location = geolocator.geocode(address)\n",
    "latitude = location.latitude\n",
    "longitude = location.longitude\n",
    "\n",
    "#creating map\n",
    "title_html = '''\n",
    "    <h3 align=\"center\" style=\"font-size:20px\"><b>The Map of Yangon</b></h3>\n",
    "    '''\n",
    "map_yangon = folium.Map(location=[latitude, longitude], zoom_start=10)\n",
    "map_yangon.get_root().html.add_child(folium.Element(title_html))"
   ]
  },
  {
   "cell_type": "markdown",
   "metadata": {},
   "source": [
    "<img src='yangon_map.jpg'>"
   ]
  },
  {
   "cell_type": "markdown",
   "metadata": {},
   "source": [
    "Recently, a local investor is looking for a place to run a burmese restaurant in a certain neighborhood of Yangon.\n",
    "The area of interest will be in the following criteria:\n",
    "<ol>\n",
    "    <li>near to offices, hotels, and public attractions such as supermarket, shopping malls and cinemas</li>\n",
    "    <li>fewer competitors in the vicinity</li>\n",
    "    <li>ample space for parking</li> \n",
    "</ol>"
   ]
  }
 ],
 "metadata": {
  "kernelspec": {
   "display_name": "Python 3",
   "language": "python",
   "name": "python3"
  },
  "language_info": {
   "codemirror_mode": {
    "name": "ipython",
    "version": 3
   },
   "file_extension": ".py",
   "mimetype": "text/x-python",
   "name": "python",
   "nbconvert_exporter": "python",
   "pygments_lexer": "ipython3",
   "version": "3.7.6"
  }
 },
 "nbformat": 4,
 "nbformat_minor": 4
}
