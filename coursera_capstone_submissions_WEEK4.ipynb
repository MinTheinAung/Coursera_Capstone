{
 "cells": [
  {
   "cell_type": "markdown",
   "metadata": {},
   "source": [
    "<h1 align=center><font size = 6> Coursera Capstone Project </font></h1>"
   ]
  },
  {
   "cell_type": "markdown",
   "metadata": {},
   "source": [
    "<h2> The Battle of Neighborhoods (Week 1)</h2>\n",
    "\n",
    "<div class=\"alert alert-block alert-info\" style=\"margin-top: 20px\">\n",
    "    <p><font size=4>Contents</font></p>\n",
    "     <ol>\n",
    "         <li><a href=\"#w4_ans1\">Introduction</a></li>\n",
    "         <li><a href=\"#w4_ans2\">Data</a></li>\n",
    "    </ol>\n",
    "    \n",
    "</div>"
   ]
  },
  {
   "cell_type": "markdown",
   "metadata": {},
   "source": [
    "<a id=\"w4_ans1\"></a>\n",
    "<h3>Introduction</h3>"
   ]
  },
  {
   "cell_type": "markdown",
   "metadata": {},
   "source": [
    "**Yangon** is the capital of Myanmar where local migrant workers are residing to work in various industries, and foreign investors are having their eye on new opportunities."
   ]
  },
  {
   "cell_type": "code",
   "execution_count": 46,
   "metadata": {
    "scrolled": true
   },
   "outputs": [
    {
     "data": {
      "text/plain": [
       "<branca.element.Element at 0x1c5c0a714c8>"
      ]
     },
     "execution_count": 46,
     "metadata": {},
     "output_type": "execute_result"
    }
   ],
   "source": [
    "#library to convert an address to latitude and longitude values\n",
    "from geopy.geocoders import Nominatim\n",
    "\n",
    "# map rendering library\n",
    "import folium \n",
    "\n",
    "#converting the address of Yangon City to geocodes \n",
    "address = 'Yangon City, MM'\n",
    "geolocator = Nominatim(user_agent='mm_explorer')\n",
    "location = geolocator.geocode(address)\n",
    "latitude = location.latitude\n",
    "longitude = location.longitude\n",
    "\n",
    "#creating map\n",
    "title_html = '''\n",
    "    <h3 align=\"center\" style=\"font-size:20px\"><b>The Map of Yangon</b></h3>\n",
    "    '''\n",
    "map_yangon = folium.Map(location=[latitude, longitude], zoom_start=10)\n",
    "map_yangon.get_root().html.add_child(folium.Element(title_html))"
   ]
  },
  {
   "cell_type": "markdown",
   "metadata": {},
   "source": [
    "<img src='yangon_map.jpg'>"
   ]
  },
  {
   "cell_type": "markdown",
   "metadata": {},
   "source": [
    "Recently, a local investor is looking for a place to run a burmese restaurant in a certain neighborhood of Yangon.\n",
    "The area of interest will be in the following criteria:\n",
    "<ol>\n",
    "    <li>near to offices, hotels, and public attractions such as supermarket, shopping malls and cinemas</li>\n",
    "    <li>fewer competitors in the vicinity</li>\n",
    "    <li>ample space for parking</li> \n",
    "</ol>"
   ]
  },
  {
   "cell_type": "markdown",
   "metadata": {},
   "source": [
    "<a id=\"w4_ans2\"></a>\n",
    "<h3>Data</h3>"
   ]
  },
  {
   "cell_type": "markdown",
   "metadata": {},
   "source": [
    "To analyse the each neighborhoods, the coordinates of each neighborhoods in Yangon city will be required and can be found at the website, www.themimu.info."
   ]
  },
  {
   "cell_type": "code",
   "execution_count": 47,
   "metadata": {},
   "outputs": [],
   "source": [
    "#library to perform HTTP requests\n",
    "import requests as rq\n",
    "\n",
    "#library for handling Zip files\n",
    "from zipfile import ZipFile as zf\n",
    "from io import BytesIO as bi\n",
    "\n",
    "#library to analyse the data\n",
    "import pandas as pd\n",
    "\n",
    "url = \"http://themimu.info/sites/themimu.info/files/documents/Myanmar_PCodes_Release_9.3_Jan2021_Yangon.zip\"\n",
    "zipObj = rq.get(url)\n",
    "\n",
    "#extract the Zip file\n",
    "content = zf(bi(zipObj.content))\n",
    "\n",
    "#we know that there is only one file\n",
    "file = content.extract(content.namelist()[0])"
   ]
  },
  {
   "cell_type": "markdown",
   "metadata": {},
   "source": [
    "Navigating to required data set."
   ]
  },
  {
   "cell_type": "code",
   "execution_count": 49,
   "metadata": {},
   "outputs": [
    {
     "name": "stdout",
     "output_type": "stream",
     "text": [
      "['01_SR', '02_District', '03_Township', '04_Town', '_05_Ward', '06-VillageTract', '_07_Village', 'Metadata']\n"
     ]
    }
   ],
   "source": [
    "#examine the available sheet names of extracted Excel file\n",
    "print(pd.ExcelFile(file).sheet_names)"
   ]
  },
  {
   "cell_type": "code",
   "execution_count": 50,
   "metadata": {},
   "outputs": [
    {
     "data": {
      "text/html": [
       "<div>\n",
       "<style scoped>\n",
       "    .dataframe tbody tr th:only-of-type {\n",
       "        vertical-align: middle;\n",
       "    }\n",
       "\n",
       "    .dataframe tbody tr th {\n",
       "        vertical-align: top;\n",
       "    }\n",
       "\n",
       "    .dataframe thead th {\n",
       "        text-align: right;\n",
       "    }\n",
       "</style>\n",
       "<table border=\"1\" class=\"dataframe\">\n",
       "  <thead>\n",
       "    <tr style=\"text-align: right;\">\n",
       "      <th></th>\n",
       "      <th>SR_Pcode</th>\n",
       "      <th>SR_Name_Eng</th>\n",
       "      <th>District/SAZ_Pcode</th>\n",
       "      <th>District/SAZ_Name_Eng</th>\n",
       "      <th>Tsp_Pcode</th>\n",
       "      <th>Township_Name_Eng</th>\n",
       "      <th>Town_Pcode</th>\n",
       "      <th>Town_Name_Eng</th>\n",
       "      <th>Town_Name_MMR</th>\n",
       "      <th>Longitude</th>\n",
       "      <th>...</th>\n",
       "      <th>Source</th>\n",
       "      <th>Start_Date</th>\n",
       "      <th>Modified_End_Date</th>\n",
       "      <th>Notification</th>\n",
       "      <th>Notification_modified</th>\n",
       "      <th>GAD_Town_Status</th>\n",
       "      <th>Field_Town_Status</th>\n",
       "      <th>MIMU_Town_Mapping_Status</th>\n",
       "      <th>Change_Type</th>\n",
       "      <th>Remark</th>\n",
       "    </tr>\n",
       "  </thead>\n",
       "  <tbody>\n",
       "    <tr>\n",
       "      <th>0</th>\n",
       "      <td>MMR013</td>\n",
       "      <td>Yangon</td>\n",
       "      <td>MMR013D004</td>\n",
       "      <td>Yangon (West)</td>\n",
       "      <td>MMR013037</td>\n",
       "      <td>Ahlone</td>\n",
       "      <td>MMR013037701</td>\n",
       "      <td>Ahlone</td>\n",
       "      <td>အလုံ</td>\n",
       "      <td>96.127863</td>\n",
       "      <td>...</td>\n",
       "      <td>City Area</td>\n",
       "      <td>NaT</td>\n",
       "      <td>NaT</td>\n",
       "      <td>NaN</td>\n",
       "      <td>NaN</td>\n",
       "      <td>NaN</td>\n",
       "      <td>NaN</td>\n",
       "      <td>Active</td>\n",
       "      <td>NaN</td>\n",
       "      <td>GAD does not recognized as a Town</td>\n",
       "    </tr>\n",
       "    <tr>\n",
       "      <th>1</th>\n",
       "      <td>MMR013</td>\n",
       "      <td>Yangon</td>\n",
       "      <td>MMR013D004</td>\n",
       "      <td>Yangon (West)</td>\n",
       "      <td>MMR013044</td>\n",
       "      <td>Bahan</td>\n",
       "      <td>MMR013044701</td>\n",
       "      <td>Bahan</td>\n",
       "      <td>ဗဟန်း</td>\n",
       "      <td>96.156112</td>\n",
       "      <td>...</td>\n",
       "      <td>City Area</td>\n",
       "      <td>NaT</td>\n",
       "      <td>NaT</td>\n",
       "      <td>NaN</td>\n",
       "      <td>NaN</td>\n",
       "      <td>NaN</td>\n",
       "      <td>NaN</td>\n",
       "      <td>Active</td>\n",
       "      <td>NaN</td>\n",
       "      <td>GAD does not recognized as a Town</td>\n",
       "    </tr>\n",
       "    <tr>\n",
       "      <th>2</th>\n",
       "      <td>MMR013</td>\n",
       "      <td>Yangon</td>\n",
       "      <td>MMR013D002</td>\n",
       "      <td>Yangon (East)</td>\n",
       "      <td>MMR013017</td>\n",
       "      <td>Botahtaung</td>\n",
       "      <td>MMR013017701</td>\n",
       "      <td>Botahtaung</td>\n",
       "      <td>ဗိုလ်တထောင်</td>\n",
       "      <td>96.169709</td>\n",
       "      <td>...</td>\n",
       "      <td>City Area</td>\n",
       "      <td>NaT</td>\n",
       "      <td>NaT</td>\n",
       "      <td>NaN</td>\n",
       "      <td>NaN</td>\n",
       "      <td>NaN</td>\n",
       "      <td>NaN</td>\n",
       "      <td>Active</td>\n",
       "      <td>NaN</td>\n",
       "      <td>GAD does not recognized as a Town</td>\n",
       "    </tr>\n",
       "    <tr>\n",
       "      <th>3</th>\n",
       "      <td>MMR013</td>\n",
       "      <td>Yangon</td>\n",
       "      <td>MMR013D003</td>\n",
       "      <td>Yangon (South)</td>\n",
       "      <td>MMR013032</td>\n",
       "      <td>Cocokyun</td>\n",
       "      <td>MMR013032701</td>\n",
       "      <td>Cocokyun Town</td>\n",
       "      <td>ကိုကိုးကျွန်း</td>\n",
       "      <td>93.368213</td>\n",
       "      <td>...</td>\n",
       "      <td>GAD</td>\n",
       "      <td>NaT</td>\n",
       "      <td>NaT</td>\n",
       "      <td>NaN</td>\n",
       "      <td>NaN</td>\n",
       "      <td>Active</td>\n",
       "      <td>NaN</td>\n",
       "      <td>Active</td>\n",
       "      <td>NaN</td>\n",
       "      <td>NaN</td>\n",
       "    </tr>\n",
       "    <tr>\n",
       "      <th>4</th>\n",
       "      <td>MMR013</td>\n",
       "      <td>Yangon</td>\n",
       "      <td>MMR013D004</td>\n",
       "      <td>Yangon (West)</td>\n",
       "      <td>MMR013043</td>\n",
       "      <td>Dagon</td>\n",
       "      <td>MMR013043701</td>\n",
       "      <td>Dagon</td>\n",
       "      <td>ဒဂုံ</td>\n",
       "      <td>96.146900</td>\n",
       "      <td>...</td>\n",
       "      <td>City Area</td>\n",
       "      <td>NaT</td>\n",
       "      <td>NaT</td>\n",
       "      <td>NaN</td>\n",
       "      <td>NaN</td>\n",
       "      <td>NaN</td>\n",
       "      <td>NaN</td>\n",
       "      <td>Active</td>\n",
       "      <td>NaN</td>\n",
       "      <td>GAD does not recognized as a Town</td>\n",
       "    </tr>\n",
       "  </tbody>\n",
       "</table>\n",
       "<p>5 rows × 21 columns</p>\n",
       "</div>"
      ],
      "text/plain": [
       "  SR_Pcode SR_Name_Eng District/SAZ_Pcode District/SAZ_Name_Eng  Tsp_Pcode  \\\n",
       "0   MMR013      Yangon         MMR013D004         Yangon (West)  MMR013037   \n",
       "1   MMR013      Yangon         MMR013D004         Yangon (West)  MMR013044   \n",
       "2   MMR013      Yangon         MMR013D002         Yangon (East)  MMR013017   \n",
       "3   MMR013      Yangon         MMR013D003        Yangon (South)  MMR013032   \n",
       "4   MMR013      Yangon         MMR013D004         Yangon (West)  MMR013043   \n",
       "\n",
       "  Township_Name_Eng    Town_Pcode  Town_Name_Eng  Town_Name_MMR  Longitude  \\\n",
       "0            Ahlone  MMR013037701         Ahlone           အလုံ  96.127863   \n",
       "1             Bahan  MMR013044701          Bahan          ဗဟန်း  96.156112   \n",
       "2        Botahtaung  MMR013017701     Botahtaung    ဗိုလ်တထောင်  96.169709   \n",
       "3          Cocokyun  MMR013032701  Cocokyun Town  ကိုကိုးကျွန်း  93.368213   \n",
       "4             Dagon  MMR013043701          Dagon           ဒဂုံ  96.146900   \n",
       "\n",
       "   ...     Source Start_Date Modified_End_Date Notification  \\\n",
       "0  ...  City Area        NaT               NaT          NaN   \n",
       "1  ...  City Area        NaT               NaT          NaN   \n",
       "2  ...  City Area        NaT               NaT          NaN   \n",
       "3  ...        GAD        NaT               NaT          NaN   \n",
       "4  ...  City Area        NaT               NaT          NaN   \n",
       "\n",
       "  Notification_modified GAD_Town_Status Field_Town_Status  \\\n",
       "0                   NaN             NaN               NaN   \n",
       "1                   NaN             NaN               NaN   \n",
       "2                   NaN             NaN               NaN   \n",
       "3                   NaN          Active               NaN   \n",
       "4                   NaN             NaN               NaN   \n",
       "\n",
       "   MIMU_Town_Mapping_Status Change_Type                             Remark  \n",
       "0                    Active         NaN  GAD does not recognized as a Town  \n",
       "1                    Active         NaN  GAD does not recognized as a Town  \n",
       "2                    Active         NaN  GAD does not recognized as a Town  \n",
       "3                    Active         NaN                                NaN  \n",
       "4                    Active         NaN  GAD does not recognized as a Town  \n",
       "\n",
       "[5 rows x 21 columns]"
      ]
     },
     "execution_count": 50,
     "metadata": {},
     "output_type": "execute_result"
    }
   ],
   "source": [
    "#the sheet we need is '04_Town'\n",
    "data = pd.read_excel(file, '04_Town')\n",
    "data.head()"
   ]
  },
  {
   "cell_type": "markdown",
   "metadata": {},
   "source": [
    "The column names of the original data set will be changed to user friendly names as follows:"
   ]
  },
  {
   "cell_type": "code",
   "execution_count": 51,
   "metadata": {},
   "outputs": [
    {
     "data": {
      "text/html": [
       "<div>\n",
       "<style scoped>\n",
       "    .dataframe tbody tr th:only-of-type {\n",
       "        vertical-align: middle;\n",
       "    }\n",
       "\n",
       "    .dataframe tbody tr th {\n",
       "        vertical-align: top;\n",
       "    }\n",
       "\n",
       "    .dataframe thead th {\n",
       "        text-align: right;\n",
       "    }\n",
       "</style>\n",
       "<table border=\"1\" class=\"dataframe\">\n",
       "  <thead>\n",
       "    <tr style=\"text-align: right;\">\n",
       "      <th></th>\n",
       "      <th>index</th>\n",
       "      <th>Borough</th>\n",
       "      <th>Neighborhood</th>\n",
       "      <th>Longitude</th>\n",
       "      <th>Latitude</th>\n",
       "    </tr>\n",
       "  </thead>\n",
       "  <tbody>\n",
       "    <tr>\n",
       "      <th>0</th>\n",
       "      <td>0</td>\n",
       "      <td>Yangon (West)</td>\n",
       "      <td>Ahlone</td>\n",
       "      <td>96.127863</td>\n",
       "      <td>16.782398</td>\n",
       "    </tr>\n",
       "    <tr>\n",
       "      <th>1</th>\n",
       "      <td>1</td>\n",
       "      <td>Yangon (West)</td>\n",
       "      <td>Bahan</td>\n",
       "      <td>96.156112</td>\n",
       "      <td>16.815427</td>\n",
       "    </tr>\n",
       "    <tr>\n",
       "      <th>2</th>\n",
       "      <td>2</td>\n",
       "      <td>Yangon (East)</td>\n",
       "      <td>Botahtaung</td>\n",
       "      <td>96.169709</td>\n",
       "      <td>16.771967</td>\n",
       "    </tr>\n",
       "    <tr>\n",
       "      <th>3</th>\n",
       "      <td>3</td>\n",
       "      <td>Yangon (South)</td>\n",
       "      <td>Cocokyun</td>\n",
       "      <td>93.368213</td>\n",
       "      <td>14.134431</td>\n",
       "    </tr>\n",
       "    <tr>\n",
       "      <th>4</th>\n",
       "      <td>4</td>\n",
       "      <td>Yangon (West)</td>\n",
       "      <td>Dagon</td>\n",
       "      <td>96.146900</td>\n",
       "      <td>16.794952</td>\n",
       "    </tr>\n",
       "  </tbody>\n",
       "</table>\n",
       "</div>"
      ],
      "text/plain": [
       "   index         Borough Neighborhood  Longitude   Latitude\n",
       "0      0   Yangon (West)       Ahlone  96.127863  16.782398\n",
       "1      1   Yangon (West)        Bahan  96.156112  16.815427\n",
       "2      2   Yangon (East)   Botahtaung  96.169709  16.771967\n",
       "3      3  Yangon (South)     Cocokyun  93.368213  14.134431\n",
       "4      4   Yangon (West)        Dagon  96.146900  16.794952"
      ]
     },
     "execution_count": 51,
     "metadata": {},
     "output_type": "execute_result"
    }
   ],
   "source": [
    "#required column names\n",
    "column_names = ['District/SAZ_Name_Eng', 'Township_Name_Eng', 'Longitude', 'Latitude']\n",
    "\n",
    "#new column names\n",
    "new_column_names = ['Borough','Neighborhood','Longitude','Latitude']\n",
    "\n",
    "data = data[column_names]\n",
    "data.columns = new_column_names\n",
    "data.dropna(subset=['Longitude'], inplace=True)\n",
    "data = data.reset_index()\n",
    "data.head()"
   ]
  },
  {
   "cell_type": "code",
   "execution_count": 52,
   "metadata": {},
   "outputs": [
    {
     "name": "stdout",
     "output_type": "stream",
     "text": [
      "The data has 50 rows and 5 columns\n"
     ]
    }
   ],
   "source": [
    "#the shape of data\n",
    "print('The data has {} rows and {} columns'.format(data.shape[0],data.shape[1]))"
   ]
  },
  {
   "cell_type": "markdown",
   "metadata": {},
   "source": [
    "With this data, we will be working to find the best place to run a burmese restaurant considering the criteria."
   ]
  }
 ],
 "metadata": {
  "kernelspec": {
   "display_name": "Python 3",
   "language": "python",
   "name": "python3"
  },
  "language_info": {
   "codemirror_mode": {
    "name": "ipython",
    "version": 3
   },
   "file_extension": ".py",
   "mimetype": "text/x-python",
   "name": "python",
   "nbconvert_exporter": "python",
   "pygments_lexer": "ipython3",
   "version": "3.7.6"
  }
 },
 "nbformat": 4,
 "nbformat_minor": 4
}
